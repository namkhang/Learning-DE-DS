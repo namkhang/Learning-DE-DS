{
 "cells": [
  {
   "cell_type": "markdown",
   "metadata": {},
   "source": [
    "# Spark"
   ]
  },
  {
   "cell_type": "markdown",
   "metadata": {},
   "source": [
    "### Introduction:\n",
    "\n",
    "This time you will create the data.\n",
    "\n",
    "\n",
    "\n",
    "### Step 1. Import the necessary libraries"
   ]
  },
  {
   "cell_type": "code",
   "execution_count": 1,
   "metadata": {},
   "outputs": [],
   "source": [
    "import numpy as np\n",
    "import os\n",
    "from pyspark import SparkContext, SparkConf\n",
    "from pyspark.sql import SparkSession\n",
    "from pyspark.sql.functions import col , when , lit , udf ,to_timestamp\n",
    "from pyspark.sql import SQLContext\n",
    "from pyspark.sql.types import *\n",
    "import findspark\n",
    "findspark.init()\n",
    "\n",
    "# import findspark\n",
    "# findspark.add_packages('mysql:mysql-connector-java:8.0.26')\n",
    "\n"
   ]
  },
  {
   "cell_type": "code",
   "execution_count": 2,
   "metadata": {},
   "outputs": [],
   "source": [
    "sc = SparkContext(appName=\"mysqltest\")\n",
    "sqlContext = SQLContext(sc)\n",
    "spark = SparkSession.builder.master(\"local\").appName(\"PySpark_MySQL_test\").getOrCreate()\n"
   ]
  },
  {
   "cell_type": "code",
   "execution_count": 3,
   "metadata": {},
   "outputs": [
    {
     "name": "stdout",
     "output_type": "stream",
     "text": [
      "+---+--------------------+--------------------+--------+--------+\n",
      "| id|               email|            fullname|is_admin|password|\n",
      "+---+--------------------+--------------------+--------+--------+\n",
      "|  1|khang.nguyen3@hit...|Nguyễn Đăng Nam K...|       1|  123abc|\n",
      "|  2|thuan.nguyen1@hit...|    Nguyễn Đức Thuận|       1|     123|\n",
      "|  3|khuong.hoang@hita...|        Hoàng Khương|       1|     123|\n",
      "|  4|hau.nguyen1@hitac...|     Nguyễn Phúc Hậu|       1|     123|\n",
      "+---+--------------------+--------------------+--------+--------+\n",
      "\n"
     ]
    }
   ],
   "source": [
    "# tableDF = sqlContext.read.format(\"jdbc\")\\\n",
    "# .option(\"driver\",\"com.mysql.jdbc.Driver\")\\\n",
    "# .option(\"url\",\"jdbc:mysql://localhost:3306/hitachi_vantara_report\")\\\n",
    "# .option(\"dbtable\", \"user\")\\\n",
    "# .option(\"user\", \"root\")\\\n",
    "# .option(\"password\", \"locked1641999\")\\\n",
    "# .load()\n",
    "\n",
    "df_user = spark.read.format(\"jdbc\").option(\"url\", \"jdbc:mysql://localhost:3306/hitachi_vantara_report\") \\\n",
    "    .option(\"driver\", \"com.mysql.jdbc.Driver\").option(\"dbtable\", \"user\") \\\n",
    "    .option(\"user\", \"root\").option(\"password\", \"locked1641999\").load()\n",
    "df_PM = spark.read.format(\"jdbc\").option(\"url\", \"jdbc:mysql://localhost:3306/hitachi_vantara_report\") \\\n",
    "    .option(\"driver\", \"com.mysql.jdbc.Driver\").option(\"dbtable\", \"project_management\") \\\n",
    "    .option(\"user\", \"root\").option(\"password\", \"locked1641999\").load()\n",
    "df_report = spark.read.format(\"jdbc\").option(\"url\", \"jdbc:mysql://localhost:3306/hitachi_vantara_report\") \\\n",
    "    .option(\"driver\", \"com.mysql.jdbc.Driver\").option(\"dbtable\", \"report\") \\\n",
    "    .option(\"user\", \"root\").option(\"password\", \"locked1641999\").load()\n",
    "df_comment = spark.read.format(\"jdbc\").option(\"url\", \"jdbc:mysql://localhost:3306/hitachi_vantara_report\") \\\n",
    "    .option(\"driver\", \"com.mysql.jdbc.Driver\").option(\"dbtable\", \"comment\") \\\n",
    "    .option(\"user\", \"root\").option(\"password\", \"locked1641999\").load()\n",
    "df_user.show()"
   ]
  },
  {
   "cell_type": "code",
   "execution_count": 4,
   "metadata": {},
   "outputs": [
    {
     "name": "stdout",
     "output_type": "stream",
     "text": [
      "+---+---------------+-----------+---------------+--------------------+----------------+-------------------+\n",
      "| id|  customer_name|description|project_lead_id|        project_name|    project_lead|          create_at|\n",
      "+---+---------------+-----------+---------------+--------------------+----------------+-------------------+\n",
      "|  1|Nguyễn Hồng Sơn|           |              3|               Vcaas|    Hoàng Khương|               null|\n",
      "|  2|Nguyễn Hồng Sơn|           |              2|      Project Intern|Nguyễn Đức Thuận|               null|\n",
      "|  3|Nguyễn Hồng Sơn|           |              4|Data Science Project| Nguyễn Phúc Hậu|2021/07/19 20:07:40|\n",
      "+---+---------------+-----------+---------------+--------------------+----------------+-------------------+\n",
      "\n"
     ]
    }
   ],
   "source": [
    "df_PM.show()"
   ]
  },
  {
   "cell_type": "code",
   "execution_count": 5,
   "metadata": {},
   "outputs": [
    {
     "name": "stdout",
     "output_type": "stream",
     "text": [
      "+---+----------+------------------+--------------------+-------+-------------------+\n",
      "| id|project_id|report_template_id|         report_data|user_id|          create_at|\n",
      "+---+----------+------------------+--------------------+-------+-------------------+\n",
      "|  1|         1|                 1|{\"project_lead\": ...|      1|               null|\n",
      "|  3|         3|                 1|{\"project_lead\": ...|      1|2021/07/19 20:09:33|\n",
      "|  4|         2|                 2|{\"abc\": \"sdsds\", ...|      1|2021/07/21 11:11:24|\n",
      "+---+----------+------------------+--------------------+-------+-------------------+\n",
      "\n"
     ]
    }
   ],
   "source": [
    "df_report.show()"
   ]
  },
  {
   "cell_type": "code",
   "execution_count": 6,
   "metadata": {},
   "outputs": [
    {
     "name": "stdout",
     "output_type": "stream",
     "text": [
      "+---+--------+---------+-------+------------+\n",
      "| id| content|report_id|user_id|   user_name|\n",
      "+---+--------+---------+-------+------------+\n",
      "|  1|Good Job|        1|      3|Hoàng Khương|\n",
      "+---+--------+---------+-------+------------+\n",
      "\n"
     ]
    }
   ],
   "source": [
    "df_comment.show()"
   ]
  },
  {
   "cell_type": "code",
   "execution_count": 7,
   "metadata": {
    "scrolled": true
   },
   "outputs": [
    {
     "name": "stdout",
     "output_type": "stream",
     "text": [
      "+---+--------------------+-------------+--------+--------+\n",
      "| id|               email|     fullname|is_admin|password|\n",
      "+---+--------------------+-------------+--------+--------+\n",
      "|  4|tai.pham@hitachiv...|Phạm Đình Tài|       0|  123abc|\n",
      "+---+--------------------+-------------+--------+--------+\n",
      "\n"
     ]
    }
   ],
   "source": [
    "column = ['id' , 'email' , 'fullname' , 'is_admin' , 'password']\n",
    "newUser = spark.createDataFrame([(4,'tai.pham@hitachivantara.com','Phạm Đình Tài',0,'123abc')] , column)\n",
    "newUser.show()"
   ]
  },
  {
   "cell_type": "code",
   "execution_count": 8,
   "metadata": {},
   "outputs": [
    {
     "name": "stdout",
     "output_type": "stream",
     "text": [
      "+---+--------------------+--------------------+--------+--------+\n",
      "| id|               email|            fullname|is_admin|password|\n",
      "+---+--------------------+--------------------+--------+--------+\n",
      "|  1|khang.nguyen3@hit...|Nguyễn Đăng Nam K...|       1|  123abc|\n",
      "|  2|thuan.nguyen1@hit...|    Nguyễn Đức Thuận|       1|     123|\n",
      "|  3|khuong.hoang@hita...|        Hoàng Khương|       1|     123|\n",
      "|  4|hau.nguyen1@hitac...|     Nguyễn Phúc Hậu|       1|     123|\n",
      "|  4|tai.pham@hitachiv...|       Phạm Đình Tài|       0|  123abc|\n",
      "+---+--------------------+--------------------+--------+--------+\n",
      "\n"
     ]
    }
   ],
   "source": [
    "df_user = df_user.union(newUser)\n",
    "df_user.show()"
   ]
  },
  {
   "cell_type": "code",
   "execution_count": 9,
   "metadata": {},
   "outputs": [
    {
     "name": "stdout",
     "output_type": "stream",
     "text": [
      "+---+--------------------+--------------------+--------+--------+\n",
      "| id|               email|            fullname|is_admin|password|\n",
      "+---+--------------------+--------------------+--------+--------+\n",
      "|  1|khang.nguyen3@hit...|Nguyễn Đăng Nam K...|       1|  123abc|\n",
      "|  2|thuan.nguyen1@hit...|    Nguyễn Đức Thuận|       1|     123|\n",
      "|  3|khuong.hoang@hita...|        Hoàng Khương|       1|     123|\n",
      "|  4|hau.nguyen1@hitac...|     Nguyễn Phúc Hậu|       1|     123|\n",
      "|  5|tai.pham@hitachiv...|       Phạm Đình Tài|       0|  123abc|\n",
      "+---+--------------------+--------------------+--------+--------+\n",
      "\n"
     ]
    }
   ],
   "source": [
    "df_user = df_user.withColumn('id' , when(df_user['is_admin'] == 0 , 5).otherwise(df_user['id']))\n",
    "df_user.show()"
   ]
  },
  {
   "cell_type": "code",
   "execution_count": 10,
   "metadata": {},
   "outputs": [
    {
     "name": "stdout",
     "output_type": "stream",
     "text": [
      "+-------+--------------------+--------------------+--------+--------+\n",
      "|user_id|               email|            fullname|is_admin|password|\n",
      "+-------+--------------------+--------------------+--------+--------+\n",
      "|      1|khang.nguyen3@hit...|Nguyễn Đăng Nam K...|       1|  123abc|\n",
      "|      2|thuan.nguyen1@hit...|    Nguyễn Đức Thuận|       1|     123|\n",
      "|      3|khuong.hoang@hita...|        Hoàng Khương|       1|     123|\n",
      "|      4|hau.nguyen1@hitac...|     Nguyễn Phúc Hậu|       1|     123|\n",
      "|      5|tai.pham@hitachiv...|       Phạm Đình Tài|       0|  123abc|\n",
      "+-------+--------------------+--------------------+--------+--------+\n",
      "\n"
     ]
    }
   ],
   "source": [
    "df_user = df_user.withColumnRenamed('id' , 'user_id')\n",
    "df_user.show()"
   ]
  },
  {
   "cell_type": "code",
   "execution_count": 11,
   "metadata": {},
   "outputs": [
    {
     "name": "stdout",
     "output_type": "stream",
     "text": [
      "+-------+--------------------+------------+--------+--------+---+--------+---------+------------+\n",
      "|user_id|               email|    fullname|is_admin|password| id| content|report_id|   user_name|\n",
      "+-------+--------------------+------------+--------+--------+---+--------+---------+------------+\n",
      "|      3|khuong.hoang@hita...|Hoàng Khương|       1|     123|  1|Good Job|        1|Hoàng Khương|\n",
      "+-------+--------------------+------------+--------+--------+---+--------+---------+------------+\n",
      "\n"
     ]
    }
   ],
   "source": [
    "df_user_comment = df_user.join(df_comment , ['user_id'])\n",
    "df_user_comment.show()"
   ]
  },
  {
   "cell_type": "code",
   "execution_count": 12,
   "metadata": {},
   "outputs": [
    {
     "name": "stdout",
     "output_type": "stream",
     "text": [
      "+--------------------+--------------------+----------+------------------+--------------------+-------------------+\n",
      "|               email|            fullname|project_id|report_template_id|         report_data|          create_at|\n",
      "+--------------------+--------------------+----------+------------------+--------------------+-------------------+\n",
      "|khang.nguyen3@hit...|Nguyễn Đăng Nam K...|         1|                 1|{\"project_lead\": ...|               null|\n",
      "|khang.nguyen3@hit...|Nguyễn Đăng Nam K...|         3|                 1|{\"project_lead\": ...|2021/07/19 20:09:33|\n",
      "|khang.nguyen3@hit...|Nguyễn Đăng Nam K...|         2|                 2|{\"abc\": \"sdsds\", ...|2021/07/21 11:11:24|\n",
      "+--------------------+--------------------+----------+------------------+--------------------+-------------------+\n",
      "\n"
     ]
    }
   ],
   "source": [
    "df_user_report  = df_user.join(df_report , ['user_id'])\n",
    "df_user_report = df_user_report.drop('user_id' , 'password' , 'is_admin' , 'id')\n",
    "df_user_report.show()"
   ]
  },
  {
   "cell_type": "code",
   "execution_count": 13,
   "metadata": {},
   "outputs": [],
   "source": [
    "df_user_report.write.format('jdbc').options(\n",
    "      url='jdbc:mysql://localhost : 3306/hitachi_vantara_report',\n",
    "      driver='com.mysql.jdbc.Driver',\n",
    "      dbtable='spark_import',\n",
    "      user='root',\n",
    "      password='locked1641999')\\\n",
    "      .mode('append')\\\n",
    "      .save()"
   ]
  },
  {
   "cell_type": "code",
   "execution_count": 13,
   "metadata": {},
   "outputs": [],
   "source": [
    "df_error_data_1 = spark.read.option(\"header\",True).csv('error_data_part1.csv')\n",
    "df_error_data_2 = spark.read.option(\"header\",True).csv('error_data_part2.csv')\n",
    "df_product_data_1 = spark.read.option(\"header\",True).csv('product_raw_data_part1.csv')\n",
    "df_product_data_2 = spark.read.option(\"header\",True).csv('product_raw_data_part2.csv')"
   ]
  },
  {
   "cell_type": "code",
   "execution_count": 14,
   "metadata": {},
   "outputs": [
    {
     "name": "stdout",
     "output_type": "stream",
     "text": [
      "+----------+------+--------------+----+\n",
      "|Unnamed: 0|errors|    product_id|code|\n",
      "+----------+------+--------------+----+\n",
      "|         0|    96| PRODUCT_14111|BLOK|\n",
      "|         1|     8|   PRODUCT_120|BLOK|\n",
      "|         2|    96|    PRODUCT_41|FQCH|\n",
      "|         3|     2|    PRODUCT_14|FQCH|\n",
      "|         4|     5|   PRODUCT_120|FQCH|\n",
      "|         5|     8| PRODUCT_14222|BLOK|\n",
      "|         6|     3| PRODUCT_13333|BLOK|\n",
      "|         7|     5|    PRODUCT_37|BLOK|\n",
      "|         8|     5|    PRODUCT_34|BLOK|\n",
      "|         9|     6|PRODUCT_145555|EMAN|\n",
      "|        10|     2|    PRODUCT_16|EMAN|\n",
      "|        11|     7| PRODUCT_14111|FQCH|\n",
      "|        12|     1|    PRODUCT_29|EMAN|\n",
      "|        13|     1|    PRODUCT_33|BLOK|\n",
      "|        14|     1|    PRODUCT_33|BPAK|\n",
      "|        15|    31|    PRODUCT_63|BPAK|\n",
      "|        16|    48|PRODUCT_149999|FQCH|\n",
      "|        17|    48|PRODUCT_146666|EMAN|\n",
      "|        18|     1|   PRODUCT_176|FQCH|\n",
      "|        19|    13|   PRODUCT_145|BPAK|\n",
      "+----------+------+--------------+----+\n",
      "only showing top 20 rows\n",
      "\n"
     ]
    }
   ],
   "source": [
    "df_error_data_1.show()"
   ]
  },
  {
   "cell_type": "code",
   "execution_count": 15,
   "metadata": {},
   "outputs": [
    {
     "name": "stdout",
     "output_type": "stream",
     "text": [
      "+----------+------+-------------+----+\n",
      "|Unnamed: 0|errors|   product_id|code|\n",
      "+----------+------+-------------+----+\n",
      "|         0|     1|PRODUCT_10041|FQCH|\n",
      "|         1|     1|PRODUCT_10033|BPAK|\n",
      "|         2|     2|PRODUCT_10081|BPAK|\n",
      "|         3|     1|PRODUCT_10109|BPAK|\n",
      "|         4|    17|PRODUCT_20041|FQCH|\n",
      "|         5|     1|PRODUCT_20042|BLOK|\n",
      "|         6|     2|PRODUCT_10099|BLOK|\n",
      "|         7|     4|PRODUCT_10124|EMAN|\n",
      "|         8|    60|PRODUCT_20043|FQCH|\n",
      "|         9|     3|PRODUCT_20044|BPAK|\n",
      "|        10|     1|PRODUCT_10094|EMAN|\n",
      "|        11|     2|PRODUCT_10053|FQCH|\n",
      "|        12|     2|PRODUCT_10015|BLOK|\n",
      "|        13|     1|PRODUCT_20045|EMAN|\n",
      "|        14|     3|PRODUCT_10149|FQCH|\n",
      "|        15|     7|PRODUCT_20046|BLOK|\n",
      "|        16|     1|PRODUCT_10137|FQCH|\n",
      "|        17|     1|PRODUCT_10141|FQCH|\n",
      "|        18|     1|PRODUCT_20047|BLOK|\n",
      "|        19|     1|PRODUCT_10122|BPAK|\n",
      "+----------+------+-------------+----+\n",
      "only showing top 20 rows\n",
      "\n"
     ]
    }
   ],
   "source": [
    "df_error_data_2.show()"
   ]
  },
  {
   "cell_type": "code",
   "execution_count": 16,
   "metadata": {},
   "outputs": [
    {
     "name": "stdout",
     "output_type": "stream",
     "text": [
      "+------+--------------+----+\n",
      "|errors|    product_id|code|\n",
      "+------+--------------+----+\n",
      "|    96| PRODUCT_14111|BLOK|\n",
      "|     8|   PRODUCT_120|BLOK|\n",
      "|    96|    PRODUCT_41|FQCH|\n",
      "|     2|    PRODUCT_14|FQCH|\n",
      "|     5|   PRODUCT_120|FQCH|\n",
      "|     8| PRODUCT_14222|BLOK|\n",
      "|     3| PRODUCT_13333|BLOK|\n",
      "|     5|    PRODUCT_37|BLOK|\n",
      "|     5|    PRODUCT_34|BLOK|\n",
      "|     6|PRODUCT_145555|EMAN|\n",
      "|     2|    PRODUCT_16|EMAN|\n",
      "|     7| PRODUCT_14111|FQCH|\n",
      "|     1|    PRODUCT_29|EMAN|\n",
      "|     1|    PRODUCT_33|BLOK|\n",
      "|     1|    PRODUCT_33|BPAK|\n",
      "|    31|    PRODUCT_63|BPAK|\n",
      "|    48|PRODUCT_149999|FQCH|\n",
      "|    48|PRODUCT_146666|EMAN|\n",
      "|     1|   PRODUCT_176|FQCH|\n",
      "|    13|   PRODUCT_145|BPAK|\n",
      "+------+--------------+----+\n",
      "only showing top 20 rows\n",
      "\n"
     ]
    }
   ],
   "source": [
    "df_error_data = df_error_data_1.union(df_error_data_2)\n",
    "df_error_data = df_error_data.drop('Unnamed: 0')\n",
    "df_error_data.show()"
   ]
  },
  {
   "cell_type": "code",
   "execution_count": 17,
   "metadata": {},
   "outputs": [
    {
     "name": "stdout",
     "output_type": "stream",
     "text": [
      "+---+------------+-------------------+-------------------+-------------+\n",
      "|_c0|machine_name|            in_time|           out_time|   product_id|\n",
      "+---+------------+-------------------+-------------------+-------------+\n",
      "|  0| MACHINE_002|2014-12-02 00-42-46|2014-12-02 01-47-57|PRODUCT_10000|\n",
      "|  1| MACHINE_002|2014-12-01 23-40-12|2014-12-02 00-42-36|PRODUCT_10001|\n",
      "|  2| MACHINE_002|2014-12-02 09-39-49|2014-12-02 12-56-12|PRODUCT_10002|\n",
      "|  3| MACHINE_002|2014-12-02 04-40-50|2014-12-02 05-39-32|PRODUCT_10003|\n",
      "|  4| MACHINE_002|2014-12-02 15-25-44|2014-12-02 16-58-26|PRODUCT_10004|\n",
      "|  5| MACHINE_002|2014-12-02 03-23-05|2014-12-02 04-40-40|PRODUCT_10005|\n",
      "|  6| MACHINE_002|2014-12-02 01-48-07|2014-12-02 03-22-55|PRODUCT_10006|\n",
      "|  7| MACHINE_002|2014-12-02 05-39-41|2014-12-02 06-58-17|PRODUCT_10007|\n",
      "|  8| MACHINE_002|2014-12-02 14-08-17|2014-12-02 15-25-18|PRODUCT_10008|\n",
      "|  9| MACHINE_002|2014-12-02 12-56-21|2014-12-02 14-06-47|PRODUCT_10009|\n",
      "| 10| MACHINE_002|2014-12-01 21-28-45|2014-12-01 22-02-35|PRODUCT_10010|\n",
      "| 11| MACHINE_002|2014-12-01 22-02-43|2014-12-01 22-52-56|PRODUCT_10011|\n",
      "| 12| MACHINE_002|2014-12-01 22-53-08|2014-12-01 23-39-59|PRODUCT_10012|\n",
      "| 13| MACHINE_002|2014-12-02 07-15-59|2014-12-02 09-39-41|PRODUCT_10013|\n",
      "| 14| MACHINE_002|2014-12-04 03-09-38|2014-12-04 04-09-23|PRODUCT_10014|\n",
      "| 15| MACHINE_002|2014-12-03 14-01-56|2014-12-03 15-34-09|PRODUCT_10015|\n",
      "| 16| MACHINE_002|2014-12-04 05-20-29|2014-12-04 06-15-23|PRODUCT_10016|\n",
      "| 17| MACHINE_002|2014-12-03 03-53-08|2014-12-03 04-57-57|PRODUCT_10017|\n",
      "| 18| MACHINE_002|2014-12-03 09-25-14|2014-12-03 10-33-16|PRODUCT_10018|\n",
      "| 19| MACHINE_002|2014-12-03 20-54-01|2014-12-03 21-30-26|PRODUCT_10019|\n",
      "+---+------------+-------------------+-------------------+-------------+\n",
      "only showing top 20 rows\n",
      "\n"
     ]
    }
   ],
   "source": [
    "df_product_data_1.show()"
   ]
  },
  {
   "cell_type": "code",
   "execution_count": 18,
   "metadata": {},
   "outputs": [
    {
     "name": "stdout",
     "output_type": "stream",
     "text": [
      "+---+------------+-------------------+-------------------+----------+\n",
      "|_c0|machine_name|           out_time|            in_time|product_id|\n",
      "+---+------------+-------------------+-------------------+----------+\n",
      "|  0| MACHINE_001|2014-12-01 23-54-18|2014-12-01 22-54-34| PRODUCT_1|\n",
      "|  1| MACHINE_001|2014-12-02 09-41-20|2014-12-02 08-01-13| PRODUCT_2|\n",
      "|  2| MACHINE_001|2014-12-02 11-43-00|2014-12-02 09-42-25| PRODUCT_3|\n",
      "|  3| MACHINE_001|2014-12-02 04-37-19|2014-12-02 03-32-16| PRODUCT_4|\n",
      "|  4| MACHINE_001|2014-12-02 14-14-46|2014-12-02 12-45-33| PRODUCT_5|\n",
      "|  5| MACHINE_001|2014-12-02 02-10-19|2014-12-01 23-54-55| PRODUCT_6|\n",
      "|  6| MACHINE_001|2014-12-02 15-39-18|2014-12-02 14-17-52| PRODUCT_7|\n",
      "|  7| MACHINE_001|2014-12-02 16-41-45|2014-12-02 15-39-30| PRODUCT_8|\n",
      "|  8| MACHINE_001|2014-12-02 08-00-52|2014-12-02 07-00-01| PRODUCT_9|\n",
      "|  9| MACHINE_001|2014-12-02 05-41-26|2014-12-02 04-37-33|PRODUCT_10|\n",
      "| 10| MACHINE_001|2014-12-02 06-15-40|2014-12-02 05-41-45|PRODUCT_11|\n",
      "| 11| MACHINE_001|2014-12-02 12-44-58|2014-12-02 11-43-19|PRODUCT_12|\n",
      "| 12| MACHINE_001|2014-12-01 22-52-50|2014-12-01 21-54-21|PRODUCT_13|\n",
      "| 13| MACHINE_001|2014-12-02 03-31-48|2014-12-02 02-11-04|PRODUCT_14|\n",
      "| 14| MACHINE_001|2014-12-03 03-02-24|2014-12-03 01-14-44|PRODUCT_15|\n",
      "| 15| MACHINE_001|2014-12-03 09-04-08|2014-12-03 08-30-01|PRODUCT_16|\n",
      "| 16| MACHINE_001|2014-12-03 18-20-54|2014-12-03 17-42-37|PRODUCT_17|\n",
      "| 17| MACHINE_001|2014-12-04 02-32-54|2014-12-04 01-51-01|PRODUCT_18|\n",
      "| 18| MACHINE_001|2014-12-04 04-51-45|2014-12-04 03-59-39|PRODUCT_19|\n",
      "| 19| MACHINE_001|2014-12-03 06-14-12|2014-12-03 04-58-20|PRODUCT_20|\n",
      "+---+------------+-------------------+-------------------+----------+\n",
      "only showing top 20 rows\n",
      "\n"
     ]
    }
   ],
   "source": [
    "df_product_data_2.show()"
   ]
  },
  {
   "cell_type": "code",
   "execution_count": 19,
   "metadata": {},
   "outputs": [
    {
     "name": "stdout",
     "output_type": "stream",
     "text": [
      "+------------+-------------------+-------------------+-------------+\n",
      "|machine_name|            in_time|           out_time|   product_id|\n",
      "+------------+-------------------+-------------------+-------------+\n",
      "| MACHINE_002|2014-12-02 00-42-46|2014-12-02 01-47-57|PRODUCT_10000|\n",
      "| MACHINE_002|2014-12-01 23-40-12|2014-12-02 00-42-36|PRODUCT_10001|\n",
      "| MACHINE_002|2014-12-02 09-39-49|2014-12-02 12-56-12|PRODUCT_10002|\n",
      "| MACHINE_002|2014-12-02 04-40-50|2014-12-02 05-39-32|PRODUCT_10003|\n",
      "| MACHINE_002|2014-12-02 15-25-44|2014-12-02 16-58-26|PRODUCT_10004|\n",
      "| MACHINE_002|2014-12-02 03-23-05|2014-12-02 04-40-40|PRODUCT_10005|\n",
      "| MACHINE_002|2014-12-02 01-48-07|2014-12-02 03-22-55|PRODUCT_10006|\n",
      "| MACHINE_002|2014-12-02 05-39-41|2014-12-02 06-58-17|PRODUCT_10007|\n",
      "| MACHINE_002|2014-12-02 14-08-17|2014-12-02 15-25-18|PRODUCT_10008|\n",
      "| MACHINE_002|2014-12-02 12-56-21|2014-12-02 14-06-47|PRODUCT_10009|\n",
      "| MACHINE_002|2014-12-01 21-28-45|2014-12-01 22-02-35|PRODUCT_10010|\n",
      "| MACHINE_002|2014-12-01 22-02-43|2014-12-01 22-52-56|PRODUCT_10011|\n",
      "| MACHINE_002|2014-12-01 22-53-08|2014-12-01 23-39-59|PRODUCT_10012|\n",
      "| MACHINE_002|2014-12-02 07-15-59|2014-12-02 09-39-41|PRODUCT_10013|\n",
      "| MACHINE_002|2014-12-04 03-09-38|2014-12-04 04-09-23|PRODUCT_10014|\n",
      "| MACHINE_002|2014-12-03 14-01-56|2014-12-03 15-34-09|PRODUCT_10015|\n",
      "| MACHINE_002|2014-12-04 05-20-29|2014-12-04 06-15-23|PRODUCT_10016|\n",
      "| MACHINE_002|2014-12-03 03-53-08|2014-12-03 04-57-57|PRODUCT_10017|\n",
      "| MACHINE_002|2014-12-03 09-25-14|2014-12-03 10-33-16|PRODUCT_10018|\n",
      "| MACHINE_002|2014-12-03 20-54-01|2014-12-03 21-30-26|PRODUCT_10019|\n",
      "+------------+-------------------+-------------------+-------------+\n",
      "only showing top 20 rows\n",
      "\n"
     ]
    }
   ],
   "source": [
    "df_product_data = df_product_data_1.union(df_product_data_2)\n",
    "df_product_data = df_product_data.drop('_c0')\n",
    "df_product_data.show()"
   ]
  },
  {
   "cell_type": "code",
   "execution_count": 20,
   "metadata": {},
   "outputs": [
    {
     "name": "stdout",
     "output_type": "stream",
     "text": [
      "+-------------+------------+-------------------+-------------------+------+----+\n",
      "|   product_id|machine_name|            in_time|           out_time|errors|code|\n",
      "+-------------+------------+-------------------+-------------------+------+----+\n",
      "|PRODUCT_10015| MACHINE_002|2014-12-03 14-01-56|2014-12-03 15-34-09|     2|BLOK|\n",
      "|PRODUCT_10021| MACHINE_002|2014-12-03 07-59-24|2014-12-03 08-31-51|    23|FQCH|\n",
      "|PRODUCT_10021| MACHINE_002|2014-12-03 07-59-24|2014-12-03 08-31-51|     4|BPAK|\n",
      "|PRODUCT_10033| MACHINE_002|2014-12-03 11-53-30|2014-12-03 13-59-49|     1|BPAK|\n",
      "|PRODUCT_10041| MACHINE_002|2014-12-03 00-13-52|2014-12-03 01-10-40|     1|FQCH|\n",
      "|PRODUCT_10053| MACHINE_002|2014-12-03 08-29-06|2014-12-03 09-10-04|     2|FQCH|\n",
      "|PRODUCT_10081| MACHINE_002|2014-12-05 20-48-56|2014-12-05 22-24-12|     2|BPAK|\n",
      "|PRODUCT_10094| MACHINE_002|2014-12-06 23-49-18|2014-12-07 00-44-22|     1|EMAN|\n",
      "|PRODUCT_10099| MACHINE_002|2014-12-06 18-55-23|2014-12-06 20-04-55|     2|BLOK|\n",
      "|PRODUCT_10105| MACHINE_002|2014-12-07 02-10-26|2014-12-07 02-41-15|     1|BLOK|\n",
      "|PRODUCT_10109| MACHINE_002|2014-12-07 05-28-32|2014-12-07 05-48-29|     1|BPAK|\n",
      "|PRODUCT_10122| MACHINE_002|2014-12-07 17-10-04|2014-12-07 17-49-14|     1|BPAK|\n",
      "|PRODUCT_10124| MACHINE_002|2014-12-07 08-45-52|2014-12-07 10-43-15|     4|EMAN|\n",
      "|PRODUCT_10132| MACHINE_002|2014-12-07 05-05-53|2014-12-07 05-28-23|     1|BPAK|\n",
      "|PRODUCT_10137| MACHINE_002|2014-12-08 14-04-25|2014-12-08 15-12-57|     1|FQCH|\n",
      "|PRODUCT_10141| MACHINE_002|2014-12-08 20-30-12|2014-12-08 21-12-35|     1|FQCH|\n",
      "|PRODUCT_10149| MACHINE_002|2014-12-09 06-55-52|2014-12-09 08-33-29|     3|FQCH|\n",
      "|PRODUCT_10167| MACHINE_002|2014-12-10 03-01-37|2014-12-10 03-51-02|     1|EMAN|\n",
      "|PRODUCT_10190| MACHINE_002|2014-12-11 05-39-45|2014-12-11 06-16-22|     1|BLOK|\n",
      "|PRODUCT_10195| MACHINE_002|2014-12-11 02-46-12|2014-12-11 04-07-29|     1|BLOK|\n",
      "+-------------+------------+-------------------+-------------------+------+----+\n",
      "only showing top 20 rows\n",
      "\n"
     ]
    }
   ],
   "source": [
    "df_result = df_product_data.join(df_error_data , ['product_id'])\n",
    "df_result.show()"
   ]
  },
  {
   "cell_type": "code",
   "execution_count": 21,
   "metadata": {},
   "outputs": [
    {
     "name": "stdout",
     "output_type": "stream",
     "text": [
      "root\n",
      " |-- product_id: string (nullable = true)\n",
      " |-- machine_name: string (nullable = true)\n",
      " |-- in_time: string (nullable = true)\n",
      " |-- out_time: string (nullable = true)\n",
      " |-- errors: string (nullable = true)\n",
      " |-- code: string (nullable = true)\n",
      " |-- isError: integer (nullable = false)\n",
      "\n"
     ]
    }
   ],
   "source": [
    "df_result = df_result.withColumn('isError' , lit(0))\n",
    "df_result.printSchema()"
   ]
  },
  {
   "cell_type": "code",
   "execution_count": 22,
   "metadata": {},
   "outputs": [
    {
     "name": "stdout",
     "output_type": "stream",
     "text": [
      "+-------------+------------+-------------------+-------------------+------+----+-------+\n",
      "|   product_id|machine_name|            in_time|           out_time|errors|code|isError|\n",
      "+-------------+------------+-------------------+-------------------+------+----+-------+\n",
      "|PRODUCT_10015| MACHINE_002|2014-12-03 14-01-56|2014-12-03 15-34-09|   2.0|BLOK|      0|\n",
      "|PRODUCT_10021| MACHINE_002|2014-12-03 07-59-24|2014-12-03 08-31-51|  23.0|FQCH|      0|\n",
      "|PRODUCT_10021| MACHINE_002|2014-12-03 07-59-24|2014-12-03 08-31-51|   4.0|BPAK|      0|\n",
      "|PRODUCT_10033| MACHINE_002|2014-12-03 11-53-30|2014-12-03 13-59-49|   1.0|BPAK|      0|\n",
      "|PRODUCT_10041| MACHINE_002|2014-12-03 00-13-52|2014-12-03 01-10-40|   1.0|FQCH|      0|\n",
      "|PRODUCT_10053| MACHINE_002|2014-12-03 08-29-06|2014-12-03 09-10-04|   2.0|FQCH|      0|\n",
      "|PRODUCT_10081| MACHINE_002|2014-12-05 20-48-56|2014-12-05 22-24-12|   2.0|BPAK|      0|\n",
      "|PRODUCT_10094| MACHINE_002|2014-12-06 23-49-18|2014-12-07 00-44-22|   1.0|EMAN|      0|\n",
      "|PRODUCT_10099| MACHINE_002|2014-12-06 18-55-23|2014-12-06 20-04-55|   2.0|BLOK|      0|\n",
      "|PRODUCT_10105| MACHINE_002|2014-12-07 02-10-26|2014-12-07 02-41-15|   1.0|BLOK|      0|\n",
      "|PRODUCT_10109| MACHINE_002|2014-12-07 05-28-32|2014-12-07 05-48-29|   1.0|BPAK|      0|\n",
      "|PRODUCT_10122| MACHINE_002|2014-12-07 17-10-04|2014-12-07 17-49-14|   1.0|BPAK|      0|\n",
      "|PRODUCT_10124| MACHINE_002|2014-12-07 08-45-52|2014-12-07 10-43-15|   4.0|EMAN|      0|\n",
      "|PRODUCT_10132| MACHINE_002|2014-12-07 05-05-53|2014-12-07 05-28-23|   1.0|BPAK|      0|\n",
      "|PRODUCT_10137| MACHINE_002|2014-12-08 14-04-25|2014-12-08 15-12-57|   1.0|FQCH|      0|\n",
      "|PRODUCT_10141| MACHINE_002|2014-12-08 20-30-12|2014-12-08 21-12-35|   1.0|FQCH|      0|\n",
      "|PRODUCT_10149| MACHINE_002|2014-12-09 06-55-52|2014-12-09 08-33-29|   3.0|FQCH|      0|\n",
      "|PRODUCT_10167| MACHINE_002|2014-12-10 03-01-37|2014-12-10 03-51-02|   1.0|EMAN|      0|\n",
      "|PRODUCT_10190| MACHINE_002|2014-12-11 05-39-45|2014-12-11 06-16-22|   1.0|BLOK|      0|\n",
      "|PRODUCT_10195| MACHINE_002|2014-12-11 02-46-12|2014-12-11 04-07-29|   1.0|BLOK|      0|\n",
      "+-------------+------------+-------------------+-------------------+------+----+-------+\n",
      "only showing top 20 rows\n",
      "\n"
     ]
    }
   ],
   "source": [
    "df_result = df_result.withColumn('errors' , df_result['errors'].cast('float'))\n",
    "df_result.show()"
   ]
  },
  {
   "cell_type": "code",
   "execution_count": 51,
   "metadata": {},
   "outputs": [
    {
     "name": "stdout",
     "output_type": "stream",
     "text": [
      "+-------------+------------+-------------------+-------------------+------+----+-------+\n",
      "|   product_id|machine_name|            in_time|           out_time|errors|code|isError|\n",
      "+-------------+------------+-------------------+-------------------+------+----+-------+\n",
      "|PRODUCT_10015| MACHINE_002|2014-12-03 14-01-56|2014-12-03 15-34-09|   2.0|BLOK|      0|\n",
      "|PRODUCT_10021| MACHINE_002|2014-12-03 07-59-24|2014-12-03 08-31-51|  23.0|FQCH|      0|\n",
      "|PRODUCT_10021| MACHINE_002|2014-12-03 07-59-24|2014-12-03 08-31-51|   4.0|BPAK|      0|\n",
      "|PRODUCT_10033| MACHINE_002|2014-12-03 11-53-30|2014-12-03 13-59-49|   1.0|BPAK|      0|\n",
      "|PRODUCT_10041| MACHINE_002|2014-12-03 00-13-52|2014-12-03 01-10-40|   1.0|FQCH|      0|\n",
      "|PRODUCT_10053| MACHINE_002|2014-12-03 08-29-06|2014-12-03 09-10-04|   2.0|FQCH|      0|\n",
      "|PRODUCT_10081| MACHINE_002|2014-12-05 20-48-56|2014-12-05 22-24-12|   2.0|BPAK|      0|\n",
      "|PRODUCT_10094| MACHINE_002|2014-12-06 23-49-18|2014-12-07 00-44-22|   1.0|EMAN|      0|\n",
      "|PRODUCT_10099| MACHINE_002|2014-12-06 18-55-23|2014-12-06 20-04-55|   2.0|BLOK|      0|\n",
      "|PRODUCT_10105| MACHINE_002|2014-12-07 02-10-26|2014-12-07 02-41-15|   1.0|BLOK|      0|\n",
      "|PRODUCT_10109| MACHINE_002|2014-12-07 05-28-32|2014-12-07 05-48-29|   1.0|BPAK|      0|\n",
      "|PRODUCT_10122| MACHINE_002|2014-12-07 17-10-04|2014-12-07 17-49-14|   1.0|BPAK|      0|\n",
      "|PRODUCT_10124| MACHINE_002|2014-12-07 08-45-52|2014-12-07 10-43-15|   4.0|EMAN|      0|\n",
      "|PRODUCT_10132| MACHINE_002|2014-12-07 05-05-53|2014-12-07 05-28-23|   1.0|BPAK|      0|\n",
      "|PRODUCT_10137| MACHINE_002|2014-12-08 14-04-25|2014-12-08 15-12-57|   1.0|FQCH|      0|\n",
      "|PRODUCT_10141| MACHINE_002|2014-12-08 20-30-12|2014-12-08 21-12-35|   1.0|FQCH|      0|\n",
      "|PRODUCT_10149| MACHINE_002|2014-12-09 06-55-52|2014-12-09 08-33-29|   3.0|FQCH|      0|\n",
      "|PRODUCT_10167| MACHINE_002|2014-12-10 03-01-37|2014-12-10 03-51-02|   1.0|EMAN|      0|\n",
      "|PRODUCT_10190| MACHINE_002|2014-12-11 05-39-45|2014-12-11 06-16-22|   1.0|BLOK|      0|\n",
      "|PRODUCT_10195| MACHINE_002|2014-12-11 02-46-12|2014-12-11 04-07-29|   1.0|BLOK|      0|\n",
      "+-------------+------------+-------------------+-------------------+------+----+-------+\n",
      "only showing top 20 rows\n",
      "\n"
     ]
    }
   ],
   "source": [
    "df_result = df_result.withColumn('isError' , when(df_result['errors'] >= 96 , 1).otherwise(df_result['isError']))\n",
    "df_result.show()"
   ]
  },
  {
   "cell_type": "code",
   "execution_count": 24,
   "metadata": {},
   "outputs": [
    {
     "name": "stdout",
     "output_type": "stream",
     "text": [
      "+-------------+------------+-------------------+-------------------+------+----+-------+\n",
      "|   product_id|machine_name|            in_time|           out_time|errors|code|isError|\n",
      "+-------------+------------+-------------------+-------------------+------+----+-------+\n",
      "|PRODUCT_10971| MACHINE_002|2015-01-11 18-57-58|2015-01-11 20-40-02|  99.0|BLOK|      1|\n",
      "|PRODUCT_11413| MACHINE_002|2015-01-29 05-12-30|2015-01-29 06-20-01| 111.0|EMAN|      1|\n",
      "|PRODUCT_11413| MACHINE_002|2015-01-29 05-12-30|2015-01-29 06-20-01| 111.0|FQCH|      1|\n",
      "|PRODUCT_11622| MACHINE_002|2015-02-07 10-08-30|2015-02-07 11-32-26|  96.0|FQCH|      1|\n",
      "|PRODUCT_14111| MACHINE_002|2015-06-03 13-11-59|2015-06-03 15-09-55|  96.0|BLOK|      1|\n",
      "|   PRODUCT_41| MACHINE_001|2014-12-04 07-19-53|2014-12-04 07-00-27|  96.0|FQCH|      1|\n",
      "|  PRODUCT_151| MACHINE_001|2014-12-10 16-30-12|2014-12-10 14-40-42| 104.0|EMAN|      1|\n",
      "|  PRODUCT_439| MACHINE_001|2014-12-23 06-27-04|2014-12-23 05-14-20|  96.0|EMAN|      1|\n",
      "|  PRODUCT_444| MACHINE_001|2014-12-23 14-14-32|2014-12-23 13-39-46|  96.0|EMAN|      1|\n",
      "|  PRODUCT_471| MACHINE_001|2014-12-25 02-23-15|2014-12-25 00-10-30|  96.0|EMAN|      1|\n",
      "|  PRODUCT_626| MACHINE_001|2015-01-01 11-46-00|2015-01-01 10-40-06|  96.0|BLOK|      1|\n",
      "|  PRODUCT_628| MACHINE_001|2014-12-31 16-45-54|2014-12-31 15-47-10|  96.0|FQCH|      1|\n",
      "|  PRODUCT_959| MACHINE_001|2015-01-15 04-58-22|2015-01-15 03-39-23|  96.0|BPAK|      1|\n",
      "| PRODUCT_1346| MACHINE_001|2015-01-30 06-20-10|2015-01-30 03-55-14|  96.0|BPAK|      1|\n",
      "| PRODUCT_1346| MACHINE_001|2015-01-30 06-20-10|2015-01-30 03-55-14|  96.0|FQCH|      1|\n",
      "| PRODUCT_1354| MACHINE_001|2015-01-30 08-55-11|2015-01-30 07-58-38|  96.0|EMAN|      1|\n",
      "| PRODUCT_1366| MACHINE_001|2015-01-30 07-58-20|2015-01-30 06-59-03|  96.0|BLOK|      1|\n",
      "| PRODUCT_1455| MACHINE_001|2015-02-03 10-24-40|2015-02-03 09-33-19|  96.0|BPAK|      1|\n",
      "| PRODUCT_1514| MACHINE_001|2015-02-06 05-13-36|2015-02-06 04-37-43|  96.0|FQCH|      1|\n",
      "| PRODUCT_1535| MACHINE_001|2015-02-06 23-54-54|2015-02-06 22-36-48|  96.0|BLOK|      1|\n",
      "+-------------+------------+-------------------+-------------------+------+----+-------+\n",
      "only showing top 20 rows\n",
      "\n"
     ]
    }
   ],
   "source": [
    "df_product_isError = df_result.filter(df_result['isError'] == 1)\n",
    "df_product_isError.show()"
   ]
  },
  {
   "cell_type": "code",
   "execution_count": 27,
   "metadata": {},
   "outputs": [],
   "source": [
    "df_product_isError.write.format('jdbc').options(\n",
    "      url='jdbc:mysql://localhost : 3306/hitachi_vantara_report',\n",
    "      driver='com.mysql.jdbc.Driver',\n",
    "      dbtable='spark_import',\n",
    "      user='root',\n",
    "      password='locked1641999')\\\n",
    "      .mode('append')\\\n",
    "      .save()"
   ]
  },
  {
   "cell_type": "code",
   "execution_count": 25,
   "metadata": {},
   "outputs": [
    {
     "name": "stdout",
     "output_type": "stream",
     "text": [
      "{'BLOK': 13, 'EMAN': 16, 'FQCH': 12}\n"
     ]
    }
   ],
   "source": [
    "arrCode = df_product_isError.select('code').collect()\n",
    "def countErrorCode(*args) :\n",
    "    result = {}\n",
    "    arrArgument  = list(args)\n",
    "    for arg in arrArgument:\n",
    "        count = len([i.code for i in arrCode if i.code == arg])\n",
    "        result[arg] = count\n",
    "    return result\n",
    "\n",
    "print(countErrorCode('BLOK' , 'EMAN' , 'FQCH'))"
   ]
  },
  {
   "cell_type": "code",
   "execution_count": 26,
   "metadata": {},
   "outputs": [
    {
     "name": "stdout",
     "output_type": "stream",
     "text": [
      "{'BLOK': 1251.0, 'EMAN': 1562.0, 'FQCH': 1167.0}\n"
     ]
    }
   ],
   "source": [
    "arrErrorCode = df_product_isError.select('code' ,'errors').collect()\n",
    "def sumErrorCode(*args) :\n",
    "    result = {}\n",
    "    arrArgument  = list(args)\n",
    "    for arg in arrArgument:\n",
    "        sumError = sum([i.errors for i in arrErrorCode if i.code == arg])\n",
    "        result[arg] = sumError\n",
    "    return result\n",
    "\n",
    "print(sumErrorCode('BLOK' , 'EMAN' , 'FQCH'))"
   ]
  },
  {
   "cell_type": "code",
   "execution_count": 27,
   "metadata": {},
   "outputs": [
    {
     "name": "stdout",
     "output_type": "stream",
     "text": [
      "+-------------+------------+-------------------+-------------------+------+----+-------+------------+\n",
      "|   product_id|machine_name|            in_time|           out_time|errors|code|isError|merge_column|\n",
      "+-------------+------------+-------------------+-------------------+------+----+-------+------------+\n",
      "|PRODUCT_10971| MACHINE_002|2015-01-11 18-57-58|2015-01-11 20-40-02|  99.0|BLOK|      1| 99.0 : BLOK|\n",
      "|PRODUCT_11413| MACHINE_002|2015-01-29 05-12-30|2015-01-29 06-20-01| 111.0|EMAN|      1|111.0 : EMAN|\n",
      "|PRODUCT_11413| MACHINE_002|2015-01-29 05-12-30|2015-01-29 06-20-01| 111.0|FQCH|      1|111.0 : FQCH|\n",
      "|PRODUCT_11622| MACHINE_002|2015-02-07 10-08-30|2015-02-07 11-32-26|  96.0|FQCH|      1| 96.0 : FQCH|\n",
      "|PRODUCT_14111| MACHINE_002|2015-06-03 13-11-59|2015-06-03 15-09-55|  96.0|BLOK|      1| 96.0 : BLOK|\n",
      "|   PRODUCT_41| MACHINE_001|2014-12-04 07-19-53|2014-12-04 07-00-27|  96.0|FQCH|      1| 96.0 : FQCH|\n",
      "|  PRODUCT_151| MACHINE_001|2014-12-10 16-30-12|2014-12-10 14-40-42| 104.0|EMAN|      1|104.0 : EMAN|\n",
      "|  PRODUCT_439| MACHINE_001|2014-12-23 06-27-04|2014-12-23 05-14-20|  96.0|EMAN|      1| 96.0 : EMAN|\n",
      "|  PRODUCT_444| MACHINE_001|2014-12-23 14-14-32|2014-12-23 13-39-46|  96.0|EMAN|      1| 96.0 : EMAN|\n",
      "|  PRODUCT_471| MACHINE_001|2014-12-25 02-23-15|2014-12-25 00-10-30|  96.0|EMAN|      1| 96.0 : EMAN|\n",
      "|  PRODUCT_626| MACHINE_001|2015-01-01 11-46-00|2015-01-01 10-40-06|  96.0|BLOK|      1| 96.0 : BLOK|\n",
      "|  PRODUCT_628| MACHINE_001|2014-12-31 16-45-54|2014-12-31 15-47-10|  96.0|FQCH|      1| 96.0 : FQCH|\n",
      "|  PRODUCT_959| MACHINE_001|2015-01-15 04-58-22|2015-01-15 03-39-23|  96.0|BPAK|      1| 96.0 : BPAK|\n",
      "| PRODUCT_1346| MACHINE_001|2015-01-30 06-20-10|2015-01-30 03-55-14|  96.0|BPAK|      1| 96.0 : BPAK|\n",
      "| PRODUCT_1346| MACHINE_001|2015-01-30 06-20-10|2015-01-30 03-55-14|  96.0|FQCH|      1| 96.0 : FQCH|\n",
      "| PRODUCT_1354| MACHINE_001|2015-01-30 08-55-11|2015-01-30 07-58-38|  96.0|EMAN|      1| 96.0 : EMAN|\n",
      "| PRODUCT_1366| MACHINE_001|2015-01-30 07-58-20|2015-01-30 06-59-03|  96.0|BLOK|      1| 96.0 : BLOK|\n",
      "| PRODUCT_1455| MACHINE_001|2015-02-03 10-24-40|2015-02-03 09-33-19|  96.0|BPAK|      1| 96.0 : BPAK|\n",
      "| PRODUCT_1514| MACHINE_001|2015-02-06 05-13-36|2015-02-06 04-37-43|  96.0|FQCH|      1| 96.0 : FQCH|\n",
      "| PRODUCT_1535| MACHINE_001|2015-02-06 23-54-54|2015-02-06 22-36-48|  96.0|BLOK|      1| 96.0 : BLOK|\n",
      "+-------------+------------+-------------------+-------------------+------+----+-------+------------+\n",
      "only showing top 20 rows\n",
      "\n"
     ]
    }
   ],
   "source": [
    "udfMergeColumn  = udf(lambda x , y :  '{} : {}'.format(x , y) , StringType())\n",
    "df_product_isError.withColumn('merge_column' , udfMergeColumn('errors' , 'code')).show()\n",
    "    "
   ]
  },
  {
   "cell_type": "code",
   "execution_count": 28,
   "metadata": {},
   "outputs": [
    {
     "name": "stdout",
     "output_type": "stream",
     "text": [
      "+-------------+------------+-------------------+-------------------+------+----+-------+\n",
      "|   product_id|machine_name|            in_time|           out_time|errors|code|isError|\n",
      "+-------------+------------+-------------------+-------------------+------+----+-------+\n",
      "|PRODUCT_10971| MACHINE_002|2015-01-11 18:57:58|2015-01-11 20:40:02|  99.0|BLOK|      1|\n",
      "|PRODUCT_11413| MACHINE_002|2015-01-29 05:12:30|2015-01-29 06:20:01| 111.0|EMAN|      1|\n",
      "|PRODUCT_11413| MACHINE_002|2015-01-29 05:12:30|2015-01-29 06:20:01| 111.0|FQCH|      1|\n",
      "|PRODUCT_11622| MACHINE_002|2015-02-07 10:08:30|2015-02-07 11:32:26|  96.0|FQCH|      1|\n",
      "|PRODUCT_14111| MACHINE_002|2015-06-03 13:11:59|2015-06-03 15:09:55|  96.0|BLOK|      1|\n",
      "|   PRODUCT_41| MACHINE_001|2014-12-04 07:19:53|2014-12-04 07:00:27|  96.0|FQCH|      1|\n",
      "|  PRODUCT_151| MACHINE_001|2014-12-10 16:30:12|2014-12-10 14:40:42| 104.0|EMAN|      1|\n",
      "|  PRODUCT_439| MACHINE_001|2014-12-23 06:27:04|2014-12-23 05:14:20|  96.0|EMAN|      1|\n",
      "|  PRODUCT_444| MACHINE_001|2014-12-23 14:14:32|2014-12-23 13:39:46|  96.0|EMAN|      1|\n",
      "|  PRODUCT_471| MACHINE_001|2014-12-25 02:23:15|2014-12-25 00:10:30|  96.0|EMAN|      1|\n",
      "|  PRODUCT_626| MACHINE_001|2015-01-01 11:46:00|2015-01-01 10:40:06|  96.0|BLOK|      1|\n",
      "|  PRODUCT_628| MACHINE_001|2014-12-31 16:45:54|2014-12-31 15:47:10|  96.0|FQCH|      1|\n",
      "|  PRODUCT_959| MACHINE_001|2015-01-15 04:58:22|2015-01-15 03:39:23|  96.0|BPAK|      1|\n",
      "| PRODUCT_1346| MACHINE_001|2015-01-30 06:20:10|2015-01-30 03:55:14|  96.0|BPAK|      1|\n",
      "| PRODUCT_1346| MACHINE_001|2015-01-30 06:20:10|2015-01-30 03:55:14|  96.0|FQCH|      1|\n",
      "| PRODUCT_1354| MACHINE_001|2015-01-30 08:55:11|2015-01-30 07:58:38|  96.0|EMAN|      1|\n",
      "| PRODUCT_1366| MACHINE_001|2015-01-30 07:58:20|2015-01-30 06:59:03|  96.0|BLOK|      1|\n",
      "| PRODUCT_1455| MACHINE_001|2015-02-03 10:24:40|2015-02-03 09:33:19|  96.0|BPAK|      1|\n",
      "| PRODUCT_1514| MACHINE_001|2015-02-06 05:13:36|2015-02-06 04:37:43|  96.0|FQCH|      1|\n",
      "| PRODUCT_1535| MACHINE_001|2015-02-06 23:54:54|2015-02-06 22:36:48|  96.0|BLOK|      1|\n",
      "+-------------+------------+-------------------+-------------------+------+----+-------+\n",
      "only showing top 20 rows\n",
      "\n"
     ]
    }
   ],
   "source": [
    "def formatTime(x) :\n",
    "    arrayTime = x.split(' ')\n",
    "    arrayTime[1] = arrayTime[1].replace('-' , ':')\n",
    "    strTime = \" \".join(arrayTime)\n",
    "    return strTime\n",
    "    \n",
    "udfFormatTime = udf(formatTime , StringType())\n",
    "df_product_isError = df_product_isError.withColumn('in_time' , udfFormatTime('in_time')) \\\n",
    "                                       .withColumn('out_time' , udfFormatTime('out_time'))\n",
    "df_product_isError.show()"
   ]
  },
  {
   "cell_type": "code",
   "execution_count": 29,
   "metadata": {},
   "outputs": [
    {
     "name": "stdout",
     "output_type": "stream",
     "text": [
      "+-------------+------------+------+----+-------+-------------------+-------------------+\n",
      "|   product_id|machine_name|errors|code|isError|           start_at|             end_at|\n",
      "+-------------+------------+------+----+-------+-------------------+-------------------+\n",
      "|PRODUCT_10971| MACHINE_002|  99.0|BLOK|      1|2015-01-11 18:57:58|2015-01-11 20:40:02|\n",
      "|PRODUCT_11413| MACHINE_002| 111.0|EMAN|      1|2015-01-29 05:12:30|2015-01-29 06:20:01|\n",
      "|PRODUCT_11413| MACHINE_002| 111.0|FQCH|      1|2015-01-29 05:12:30|2015-01-29 06:20:01|\n",
      "|PRODUCT_11622| MACHINE_002|  96.0|FQCH|      1|2015-02-07 10:08:30|2015-02-07 11:32:26|\n",
      "|PRODUCT_14111| MACHINE_002|  96.0|BLOK|      1|2015-06-03 13:11:59|2015-06-03 15:09:55|\n",
      "|   PRODUCT_41| MACHINE_001|  96.0|FQCH|      1|2014-12-04 07:19:53|2014-12-04 07:00:27|\n",
      "|  PRODUCT_151| MACHINE_001| 104.0|EMAN|      1|2014-12-10 16:30:12|2014-12-10 14:40:42|\n",
      "|  PRODUCT_439| MACHINE_001|  96.0|EMAN|      1|2014-12-23 06:27:04|2014-12-23 05:14:20|\n",
      "|  PRODUCT_444| MACHINE_001|  96.0|EMAN|      1|2014-12-23 14:14:32|2014-12-23 13:39:46|\n",
      "|  PRODUCT_471| MACHINE_001|  96.0|EMAN|      1|2014-12-25 02:23:15|2014-12-25 00:10:30|\n",
      "|  PRODUCT_626| MACHINE_001|  96.0|BLOK|      1|2015-01-01 11:46:00|2015-01-01 10:40:06|\n",
      "|  PRODUCT_628| MACHINE_001|  96.0|FQCH|      1|2014-12-31 16:45:54|2014-12-31 15:47:10|\n",
      "|  PRODUCT_959| MACHINE_001|  96.0|BPAK|      1|2015-01-15 04:58:22|2015-01-15 03:39:23|\n",
      "| PRODUCT_1346| MACHINE_001|  96.0|BPAK|      1|2015-01-30 06:20:10|2015-01-30 03:55:14|\n",
      "| PRODUCT_1346| MACHINE_001|  96.0|FQCH|      1|2015-01-30 06:20:10|2015-01-30 03:55:14|\n",
      "| PRODUCT_1354| MACHINE_001|  96.0|EMAN|      1|2015-01-30 08:55:11|2015-01-30 07:58:38|\n",
      "| PRODUCT_1366| MACHINE_001|  96.0|BLOK|      1|2015-01-30 07:58:20|2015-01-30 06:59:03|\n",
      "| PRODUCT_1455| MACHINE_001|  96.0|BPAK|      1|2015-02-03 10:24:40|2015-02-03 09:33:19|\n",
      "| PRODUCT_1514| MACHINE_001|  96.0|FQCH|      1|2015-02-06 05:13:36|2015-02-06 04:37:43|\n",
      "| PRODUCT_1535| MACHINE_001|  96.0|BLOK|      1|2015-02-06 23:54:54|2015-02-06 22:36:48|\n",
      "+-------------+------------+------+----+-------+-------------------+-------------------+\n",
      "only showing top 20 rows\n",
      "\n"
     ]
    }
   ],
   "source": [
    "#dung format thi moi cast dc \n",
    "df_product_isError =df_product_isError.select('product_id','machine_name', 'errors' ,'code' , 'isError' , \\\n",
    "                    to_timestamp(df_product_isError['in_time'],'yyyy-MM-dd HH:mm:ss').alias('start_at'), \\\n",
    "                    to_timestamp(df_product_isError['out_time'],'yyyy-MM-dd HH:mm:ss').alias('end_at'))\n",
    "df_product_isError.show()"
   ]
  },
  {
   "cell_type": "code",
   "execution_count": 30,
   "metadata": {},
   "outputs": [
    {
     "name": "stdout",
     "output_type": "stream",
     "text": [
      "root\n",
      " |-- product_id: string (nullable = true)\n",
      " |-- machine_name: string (nullable = true)\n",
      " |-- errors: float (nullable = true)\n",
      " |-- code: string (nullable = true)\n",
      " |-- isError: integer (nullable = false)\n",
      " |-- start_at: timestamp (nullable = true)\n",
      " |-- end_at: timestamp (nullable = true)\n",
      "\n"
     ]
    }
   ],
   "source": [
    "df_product_isError.printSchema()"
   ]
  },
  {
   "cell_type": "code",
   "execution_count": 32,
   "metadata": {},
   "outputs": [
    {
     "name": "stdout",
     "output_type": "stream",
     "text": [
      "+-------------+------------+------+----+-------+-------------------+-------------------+--------+\n",
      "|   product_id|machine_name|errors|code|isError|           start_at|             end_at|log_work|\n",
      "+-------------+------------+------+----+-------+-------------------+-------------------+--------+\n",
      "|PRODUCT_10971| MACHINE_002|  99.0|BLOK|      1|2015-01-11 18:57:58|2015-01-11 20:40:02| 2 hours|\n",
      "|PRODUCT_11413| MACHINE_002| 111.0|EMAN|      1|2015-01-29 05:12:30|2015-01-29 06:20:01| 1 hours|\n",
      "|PRODUCT_11413| MACHINE_002| 111.0|FQCH|      1|2015-01-29 05:12:30|2015-01-29 06:20:01| 1 hours|\n",
      "|PRODUCT_11622| MACHINE_002|  96.0|FQCH|      1|2015-02-07 10:08:30|2015-02-07 11:32:26| 1 hours|\n",
      "|PRODUCT_14111| MACHINE_002|  96.0|BLOK|      1|2015-06-03 13:11:59|2015-06-03 15:09:55| 2 hours|\n",
      "|   PRODUCT_41| MACHINE_001|  96.0|FQCH|      1|2014-12-04 07:19:53|2014-12-04 07:00:27|24 hours|\n",
      "|  PRODUCT_151| MACHINE_001| 104.0|EMAN|      1|2014-12-10 16:30:12|2014-12-10 14:40:42|22 hours|\n",
      "|  PRODUCT_439| MACHINE_001|  96.0|EMAN|      1|2014-12-23 06:27:04|2014-12-23 05:14:20|23 hours|\n",
      "|  PRODUCT_444| MACHINE_001|  96.0|EMAN|      1|2014-12-23 14:14:32|2014-12-23 13:39:46|23 hours|\n",
      "|  PRODUCT_471| MACHINE_001|  96.0|EMAN|      1|2014-12-25 02:23:15|2014-12-25 00:10:30|22 hours|\n",
      "|  PRODUCT_626| MACHINE_001|  96.0|BLOK|      1|2015-01-01 11:46:00|2015-01-01 10:40:06|23 hours|\n",
      "|  PRODUCT_628| MACHINE_001|  96.0|FQCH|      1|2014-12-31 16:45:54|2014-12-31 15:47:10|23 hours|\n",
      "|  PRODUCT_959| MACHINE_001|  96.0|BPAK|      1|2015-01-15 04:58:22|2015-01-15 03:39:23|23 hours|\n",
      "| PRODUCT_1346| MACHINE_001|  96.0|BPAK|      1|2015-01-30 06:20:10|2015-01-30 03:55:14|22 hours|\n",
      "| PRODUCT_1346| MACHINE_001|  96.0|FQCH|      1|2015-01-30 06:20:10|2015-01-30 03:55:14|22 hours|\n",
      "| PRODUCT_1354| MACHINE_001|  96.0|EMAN|      1|2015-01-30 08:55:11|2015-01-30 07:58:38|23 hours|\n",
      "| PRODUCT_1366| MACHINE_001|  96.0|BLOK|      1|2015-01-30 07:58:20|2015-01-30 06:59:03|23 hours|\n",
      "| PRODUCT_1455| MACHINE_001|  96.0|BPAK|      1|2015-02-03 10:24:40|2015-02-03 09:33:19|23 hours|\n",
      "| PRODUCT_1514| MACHINE_001|  96.0|FQCH|      1|2015-02-06 05:13:36|2015-02-06 04:37:43|23 hours|\n",
      "| PRODUCT_1535| MACHINE_001|  96.0|BLOK|      1|2015-02-06 23:54:54|2015-02-06 22:36:48|23 hours|\n",
      "+-------------+------------+------+----+-------+-------------------+-------------------+--------+\n",
      "only showing top 20 rows\n",
      "\n"
     ]
    }
   ],
   "source": [
    "def timeLogWork(timeStart , timeEnd):\n",
    "    time = timeEnd - timeStart\n",
    "    hours  = round(time.seconds /3600)\n",
    "    return '{} hours'.format(hours)\n",
    "udfTimeLogWork = udf(timeLogWork, StringType())\n",
    "df_product_isError = df_product_isError.withColumn('log_work' ,udfTimeLogWork('start_at' ,'end_at'))\n",
    "df_product_isError.show()"
   ]
  },
  {
   "cell_type": "code",
   "execution_count": 46,
   "metadata": {},
   "outputs": [],
   "source": [
    "rdd_product_isError = df_product_isError.rdd"
   ]
  },
  {
   "cell_type": "code",
   "execution_count": 47,
   "metadata": {},
   "outputs": [
    {
     "data": {
      "text/plain": [
       "[Row(product_id='PRODUCT_10971', machine_name='MACHINE_002', errors=99.0, code='BLOK', isError=1, start_at=datetime.datetime(2015, 1, 11, 18, 57, 58), end_at=datetime.datetime(2015, 1, 11, 20, 40, 2), log_work='2 hours'),\n",
       " Row(product_id='PRODUCT_11413', machine_name='MACHINE_002', errors=111.0, code='EMAN', isError=1, start_at=datetime.datetime(2015, 1, 29, 5, 12, 30), end_at=datetime.datetime(2015, 1, 29, 6, 20, 1), log_work='1 hours'),\n",
       " Row(product_id='PRODUCT_11413', machine_name='MACHINE_002', errors=111.0, code='FQCH', isError=1, start_at=datetime.datetime(2015, 1, 29, 5, 12, 30), end_at=datetime.datetime(2015, 1, 29, 6, 20, 1), log_work='1 hours'),\n",
       " Row(product_id='PRODUCT_11622', machine_name='MACHINE_002', errors=96.0, code='FQCH', isError=1, start_at=datetime.datetime(2015, 2, 7, 10, 8, 30), end_at=datetime.datetime(2015, 2, 7, 11, 32, 26), log_work='1 hours'),\n",
       " Row(product_id='PRODUCT_14111', machine_name='MACHINE_002', errors=96.0, code='BLOK', isError=1, start_at=datetime.datetime(2015, 6, 3, 13, 11, 59), end_at=datetime.datetime(2015, 6, 3, 15, 9, 55), log_work='2 hours'),\n",
       " Row(product_id='PRODUCT_41', machine_name='MACHINE_001', errors=96.0, code='FQCH', isError=1, start_at=datetime.datetime(2014, 12, 4, 7, 19, 53), end_at=datetime.datetime(2014, 12, 4, 7, 0, 27), log_work='24 hours'),\n",
       " Row(product_id='PRODUCT_151', machine_name='MACHINE_001', errors=104.0, code='EMAN', isError=1, start_at=datetime.datetime(2014, 12, 10, 16, 30, 12), end_at=datetime.datetime(2014, 12, 10, 14, 40, 42), log_work='22 hours'),\n",
       " Row(product_id='PRODUCT_439', machine_name='MACHINE_001', errors=96.0, code='EMAN', isError=1, start_at=datetime.datetime(2014, 12, 23, 6, 27, 4), end_at=datetime.datetime(2014, 12, 23, 5, 14, 20), log_work='23 hours'),\n",
       " Row(product_id='PRODUCT_444', machine_name='MACHINE_001', errors=96.0, code='EMAN', isError=1, start_at=datetime.datetime(2014, 12, 23, 14, 14, 32), end_at=datetime.datetime(2014, 12, 23, 13, 39, 46), log_work='23 hours'),\n",
       " Row(product_id='PRODUCT_471', machine_name='MACHINE_001', errors=96.0, code='EMAN', isError=1, start_at=datetime.datetime(2014, 12, 25, 2, 23, 15), end_at=datetime.datetime(2014, 12, 25, 0, 10, 30), log_work='22 hours'),\n",
       " Row(product_id='PRODUCT_626', machine_name='MACHINE_001', errors=96.0, code='BLOK', isError=1, start_at=datetime.datetime(2015, 1, 1, 11, 46), end_at=datetime.datetime(2015, 1, 1, 10, 40, 6), log_work='23 hours'),\n",
       " Row(product_id='PRODUCT_628', machine_name='MACHINE_001', errors=96.0, code='FQCH', isError=1, start_at=datetime.datetime(2014, 12, 31, 16, 45, 54), end_at=datetime.datetime(2014, 12, 31, 15, 47, 10), log_work='23 hours'),\n",
       " Row(product_id='PRODUCT_959', machine_name='MACHINE_001', errors=96.0, code='BPAK', isError=1, start_at=datetime.datetime(2015, 1, 15, 4, 58, 22), end_at=datetime.datetime(2015, 1, 15, 3, 39, 23), log_work='23 hours'),\n",
       " Row(product_id='PRODUCT_1346', machine_name='MACHINE_001', errors=96.0, code='BPAK', isError=1, start_at=datetime.datetime(2015, 1, 30, 6, 20, 10), end_at=datetime.datetime(2015, 1, 30, 3, 55, 14), log_work='22 hours'),\n",
       " Row(product_id='PRODUCT_1346', machine_name='MACHINE_001', errors=96.0, code='FQCH', isError=1, start_at=datetime.datetime(2015, 1, 30, 6, 20, 10), end_at=datetime.datetime(2015, 1, 30, 3, 55, 14), log_work='22 hours'),\n",
       " Row(product_id='PRODUCT_1354', machine_name='MACHINE_001', errors=96.0, code='EMAN', isError=1, start_at=datetime.datetime(2015, 1, 30, 8, 55, 11), end_at=datetime.datetime(2015, 1, 30, 7, 58, 38), log_work='23 hours'),\n",
       " Row(product_id='PRODUCT_1366', machine_name='MACHINE_001', errors=96.0, code='BLOK', isError=1, start_at=datetime.datetime(2015, 1, 30, 7, 58, 20), end_at=datetime.datetime(2015, 1, 30, 6, 59, 3), log_work='23 hours'),\n",
       " Row(product_id='PRODUCT_1455', machine_name='MACHINE_001', errors=96.0, code='BPAK', isError=1, start_at=datetime.datetime(2015, 2, 3, 10, 24, 40), end_at=datetime.datetime(2015, 2, 3, 9, 33, 19), log_work='23 hours'),\n",
       " Row(product_id='PRODUCT_1514', machine_name='MACHINE_001', errors=96.0, code='FQCH', isError=1, start_at=datetime.datetime(2015, 2, 6, 5, 13, 36), end_at=datetime.datetime(2015, 2, 6, 4, 37, 43), log_work='23 hours'),\n",
       " Row(product_id='PRODUCT_1535', machine_name='MACHINE_001', errors=96.0, code='BLOK', isError=1, start_at=datetime.datetime(2015, 2, 6, 23, 54, 54), end_at=datetime.datetime(2015, 2, 6, 22, 36, 48), log_work='23 hours'),\n",
       " Row(product_id='PRODUCT_1535', machine_name='MACHINE_001', errors=96.0, code='EMAN', isError=1, start_at=datetime.datetime(2015, 2, 6, 23, 54, 54), end_at=datetime.datetime(2015, 2, 6, 22, 36, 48), log_work='23 hours'),\n",
       " Row(product_id='PRODUCT_1771', machine_name='MACHINE_001', errors=96.0, code='BLOK', isError=1, start_at=datetime.datetime(2015, 2, 19, 10, 50, 5), end_at=datetime.datetime(2015, 2, 19, 9, 16, 30), log_work='22 hours'),\n",
       " Row(product_id='PRODUCT_1854', machine_name='MACHINE_001', errors=96.0, code='BPAK', isError=1, start_at=datetime.datetime(2015, 2, 24, 2, 14, 12), end_at=datetime.datetime(2015, 2, 24, 1, 37), log_work='23 hours'),\n",
       " Row(product_id='PRODUCT_1867', machine_name='MACHINE_001', errors=96.0, code='BPAK', isError=1, start_at=datetime.datetime(2015, 2, 24, 8, 14, 51), end_at=datetime.datetime(2015, 2, 24, 6, 57, 4), log_work='23 hours'),\n",
       " Row(product_id='PRODUCT_1910', machine_name='MACHINE_001', errors=96.0, code='FQCH', isError=1, start_at=datetime.datetime(2015, 2, 27, 8, 20, 39), end_at=datetime.datetime(2015, 2, 27, 7, 8, 53), log_work='23 hours'),\n",
       " Row(product_id='PRODUCT_1917', machine_name='MACHINE_001', errors=96.0, code='EMAN', isError=1, start_at=datetime.datetime(2015, 2, 27, 15, 16, 17), end_at=datetime.datetime(2015, 2, 27, 13, 20, 49), log_work='22 hours'),\n",
       " Row(product_id='PRODUCT_1934', machine_name='MACHINE_001', errors=99.0, code='EMAN', isError=1, start_at=datetime.datetime(2015, 3, 1, 3, 23, 18), end_at=datetime.datetime(2015, 3, 1, 2, 16, 25), log_work='23 hours'),\n",
       " Row(product_id='PRODUCT_1956', machine_name='MACHINE_001', errors=96.0, code='EMAN', isError=1, start_at=datetime.datetime(2015, 3, 2, 14, 48, 3), end_at=datetime.datetime(2015, 3, 2, 13, 31, 55), log_work='23 hours'),\n",
       " Row(product_id='PRODUCT_1957', machine_name='MACHINE_001', errors=96.0, code='FQCH', isError=1, start_at=datetime.datetime(2015, 3, 2, 10, 35, 41), end_at=datetime.datetime(2015, 3, 2, 9, 28, 13), log_work='23 hours'),\n",
       " Row(product_id='PRODUCT_1980', machine_name='MACHINE_001', errors=96.0, code='BPAK', isError=1, start_at=datetime.datetime(2015, 3, 3, 1, 8, 36), end_at=datetime.datetime(2015, 3, 3, 0, 13, 30), log_work='23 hours'),\n",
       " Row(product_id='PRODUCT_1984', machine_name='MACHINE_001', errors=96.0, code='BPAK', isError=1, start_at=datetime.datetime(2015, 3, 3, 9, 14, 15), end_at=datetime.datetime(2015, 3, 3, 8, 40, 10), log_work='23 hours'),\n",
       " Row(product_id='PRODUCT_1989', machine_name='MACHINE_001', errors=96.0, code='EMAN', isError=1, start_at=datetime.datetime(2015, 3, 3, 5, 13, 16), end_at=datetime.datetime(2015, 3, 3, 3, 37, 33), log_work='22 hours'),\n",
       " Row(product_id='PRODUCT_1998', machine_name='MACHINE_001', errors=96.0, code='BLOK', isError=1, start_at=datetime.datetime(2015, 3, 3, 3, 36, 54), end_at=datetime.datetime(2015, 3, 3, 3, 5, 32), log_work='23 hours'),\n",
       " Row(product_id='PRODUCT_2025', machine_name='MACHINE_001', errors=96.0, code='FQCH', isError=1, start_at=datetime.datetime(2015, 3, 4, 6, 29, 38), end_at=datetime.datetime(2015, 3, 4, 5, 3, 48), log_work='23 hours'),\n",
       " Row(product_id='PRODUCT_2135', machine_name='MACHINE_001', errors=96.0, code='FQCH', isError=1, start_at=datetime.datetime(2015, 3, 8, 2, 34, 50), end_at=datetime.datetime(2015, 3, 8, 1, 53, 53), log_work='23 hours'),\n",
       " Row(product_id='PRODUCT_2152', machine_name='MACHINE_001', errors=96.0, code='BPAK', isError=1, start_at=datetime.datetime(2015, 3, 8, 20, 29, 1), end_at=datetime.datetime(2015, 3, 8, 20, 4, 17), log_work='24 hours'),\n",
       " Row(product_id='PRODUCT_2280', machine_name='MACHINE_001', errors=96.0, code='BLOK', isError=1, start_at=datetime.datetime(2015, 3, 12, 14, 36), end_at=datetime.datetime(2015, 3, 12, 13, 24, 58), log_work='23 hours'),\n",
       " Row(product_id='PRODUCT_2281', machine_name='MACHINE_001', errors=96.0, code='EMAN', isError=1, start_at=datetime.datetime(2015, 3, 13, 1, 42, 22), end_at=datetime.datetime(2015, 3, 13, 1, 7, 20), log_work='23 hours'),\n",
       " Row(product_id='PRODUCT_2284', machine_name='MACHINE_001', errors=96.0, code='EMAN', isError=1, start_at=datetime.datetime(2015, 3, 13, 5, 3, 18), end_at=datetime.datetime(2015, 3, 13, 3, 56, 35), log_work='23 hours'),\n",
       " Row(product_id='PRODUCT_2317', machine_name='MACHINE_001', errors=96.0, code='BPAK', isError=1, start_at=datetime.datetime(2015, 3, 14, 9, 45, 21), end_at=datetime.datetime(2015, 3, 14, 9, 18, 35), log_work='24 hours'),\n",
       " Row(product_id='PRODUCT_2336', machine_name='MACHINE_001', errors=96.0, code='EMAN', isError=1, start_at=datetime.datetime(2015, 3, 15, 3, 50, 49), end_at=datetime.datetime(2015, 3, 15, 3, 0, 13), log_work='23 hours'),\n",
       " Row(product_id='PRODUCT_2369', machine_name='MACHINE_001', errors=96.0, code='FQCH', isError=1, start_at=datetime.datetime(2015, 3, 16, 2, 0, 12), end_at=datetime.datetime(2015, 3, 15, 23, 53, 41), log_work='22 hours'),\n",
       " Row(product_id='PRODUCT_2377', machine_name='MACHINE_001', errors=96.0, code='BPAK', isError=1, start_at=datetime.datetime(2015, 3, 16, 10, 21, 3), end_at=datetime.datetime(2015, 3, 16, 9, 33, 19), log_work='23 hours'),\n",
       " Row(product_id='PRODUCT_2411', machine_name='MACHINE_001', errors=96.0, code='BLOK', isError=1, start_at=datetime.datetime(2015, 3, 17, 4, 17, 55), end_at=datetime.datetime(2015, 3, 17, 2, 57, 48), log_work='23 hours'),\n",
       " Row(product_id='PRODUCT_2414', machine_name='MACHINE_001', errors=96.0, code='BPAK', isError=1, start_at=datetime.datetime(2015, 3, 17, 2, 57, 31), end_at=datetime.datetime(2015, 3, 17, 0, 54, 3), log_work='22 hours'),\n",
       " Row(product_id='PRODUCT_2414', machine_name='MACHINE_001', errors=96.0, code='BLOK', isError=1, start_at=datetime.datetime(2015, 3, 17, 2, 57, 31), end_at=datetime.datetime(2015, 3, 17, 0, 54, 3), log_work='22 hours'),\n",
       " Row(product_id='PRODUCT_2415', machine_name='MACHINE_001', errors=97.0, code='BPAK', isError=1, start_at=datetime.datetime(2015, 3, 17, 8, 17, 41), end_at=datetime.datetime(2015, 3, 17, 6, 45, 44), log_work='22 hours'),\n",
       " Row(product_id='PRODUCT_2415', machine_name='MACHINE_001', errors=96.0, code='EMAN', isError=1, start_at=datetime.datetime(2015, 3, 17, 8, 17, 41), end_at=datetime.datetime(2015, 3, 17, 6, 45, 44), log_work='22 hours'),\n",
       " Row(product_id='PRODUCT_2424', machine_name='MACHINE_001', errors=96.0, code='BPAK', isError=1, start_at=datetime.datetime(2015, 3, 17, 17, 57, 29), end_at=datetime.datetime(2015, 3, 17, 16, 58, 3), log_work='23 hours'),\n",
       " Row(product_id='PRODUCT_2460', machine_name='MACHINE_001', errors=96.0, code='BLOK', isError=1, start_at=datetime.datetime(2015, 3, 19, 13, 2, 3), end_at=datetime.datetime(2015, 3, 19, 11, 57, 24), log_work='23 hours'),\n",
       " Row(product_id='PRODUCT_2707', machine_name='MACHINE_001', errors=96.0, code='FQCH', isError=1, start_at=datetime.datetime(2015, 3, 27, 13, 55, 7), end_at=datetime.datetime(2015, 3, 27, 12, 8, 9), log_work='22 hours'),\n",
       " Row(product_id='PRODUCT_3002', machine_name='MACHINE_001', errors=96.0, code='BLOK', isError=1, start_at=datetime.datetime(2015, 4, 8, 21, 21, 47), end_at=datetime.datetime(2015, 4, 8, 20, 19, 41), log_work='23 hours'),\n",
       " Row(product_id='PRODUCT_3165', machine_name='MACHINE_001', errors=96.0, code='BLOK', isError=1, start_at=datetime.datetime(2015, 4, 14, 15, 34, 58), end_at=datetime.datetime(2015, 4, 14, 14, 57, 49), log_work='23 hours'),\n",
       " Row(product_id='PRODUCT_3179', machine_name='MACHINE_001', errors=96.0, code='EMAN', isError=1, start_at=datetime.datetime(2015, 4, 15, 1, 25, 43), end_at=datetime.datetime(2015, 4, 15, 0, 42, 12), log_work='23 hours')]"
      ]
     },
     "execution_count": 47,
     "metadata": {},
     "output_type": "execute_result"
    }
   ],
   "source": [
    "rdd_product_isError.collect()"
   ]
  },
  {
   "cell_type": "code",
   "execution_count": 45,
   "metadata": {},
   "outputs": [
    {
     "data": {
      "text/plain": [
       "[('PRODUCT_10971',\n",
       "  'MACHINE_002',\n",
       "  99.0,\n",
       "  'BLOK',\n",
       "  datetime.datetime(2015, 1, 11, 18, 57, 58),\n",
       "  '2 hours'),\n",
       " ('PRODUCT_11413',\n",
       "  'MACHINE_002',\n",
       "  111.0,\n",
       "  'EMAN',\n",
       "  datetime.datetime(2015, 1, 29, 5, 12, 30),\n",
       "  '1 hours'),\n",
       " ('PRODUCT_11413',\n",
       "  'MACHINE_002',\n",
       "  111.0,\n",
       "  'FQCH',\n",
       "  datetime.datetime(2015, 1, 29, 5, 12, 30),\n",
       "  '1 hours'),\n",
       " ('PRODUCT_11622',\n",
       "  'MACHINE_002',\n",
       "  96.0,\n",
       "  'FQCH',\n",
       "  datetime.datetime(2015, 2, 7, 10, 8, 30),\n",
       "  '1 hours'),\n",
       " ('PRODUCT_14111',\n",
       "  'MACHINE_002',\n",
       "  96.0,\n",
       "  'BLOK',\n",
       "  datetime.datetime(2015, 6, 3, 13, 11, 59),\n",
       "  '2 hours'),\n",
       " ('PRODUCT_41',\n",
       "  'MACHINE_001',\n",
       "  96.0,\n",
       "  'FQCH',\n",
       "  datetime.datetime(2014, 12, 4, 7, 19, 53),\n",
       "  '24 hours'),\n",
       " ('PRODUCT_151',\n",
       "  'MACHINE_001',\n",
       "  104.0,\n",
       "  'EMAN',\n",
       "  datetime.datetime(2014, 12, 10, 16, 30, 12),\n",
       "  '22 hours'),\n",
       " ('PRODUCT_439',\n",
       "  'MACHINE_001',\n",
       "  96.0,\n",
       "  'EMAN',\n",
       "  datetime.datetime(2014, 12, 23, 6, 27, 4),\n",
       "  '23 hours'),\n",
       " ('PRODUCT_444',\n",
       "  'MACHINE_001',\n",
       "  96.0,\n",
       "  'EMAN',\n",
       "  datetime.datetime(2014, 12, 23, 14, 14, 32),\n",
       "  '23 hours'),\n",
       " ('PRODUCT_471',\n",
       "  'MACHINE_001',\n",
       "  96.0,\n",
       "  'EMAN',\n",
       "  datetime.datetime(2014, 12, 25, 2, 23, 15),\n",
       "  '22 hours'),\n",
       " ('PRODUCT_626',\n",
       "  'MACHINE_001',\n",
       "  96.0,\n",
       "  'BLOK',\n",
       "  datetime.datetime(2015, 1, 1, 11, 46),\n",
       "  '23 hours'),\n",
       " ('PRODUCT_628',\n",
       "  'MACHINE_001',\n",
       "  96.0,\n",
       "  'FQCH',\n",
       "  datetime.datetime(2014, 12, 31, 16, 45, 54),\n",
       "  '23 hours'),\n",
       " ('PRODUCT_959',\n",
       "  'MACHINE_001',\n",
       "  96.0,\n",
       "  'BPAK',\n",
       "  datetime.datetime(2015, 1, 15, 4, 58, 22),\n",
       "  '23 hours'),\n",
       " ('PRODUCT_1346',\n",
       "  'MACHINE_001',\n",
       "  96.0,\n",
       "  'BPAK',\n",
       "  datetime.datetime(2015, 1, 30, 6, 20, 10),\n",
       "  '22 hours'),\n",
       " ('PRODUCT_1346',\n",
       "  'MACHINE_001',\n",
       "  96.0,\n",
       "  'FQCH',\n",
       "  datetime.datetime(2015, 1, 30, 6, 20, 10),\n",
       "  '22 hours'),\n",
       " ('PRODUCT_1354',\n",
       "  'MACHINE_001',\n",
       "  96.0,\n",
       "  'EMAN',\n",
       "  datetime.datetime(2015, 1, 30, 8, 55, 11),\n",
       "  '23 hours'),\n",
       " ('PRODUCT_1366',\n",
       "  'MACHINE_001',\n",
       "  96.0,\n",
       "  'BLOK',\n",
       "  datetime.datetime(2015, 1, 30, 7, 58, 20),\n",
       "  '23 hours'),\n",
       " ('PRODUCT_1455',\n",
       "  'MACHINE_001',\n",
       "  96.0,\n",
       "  'BPAK',\n",
       "  datetime.datetime(2015, 2, 3, 10, 24, 40),\n",
       "  '23 hours'),\n",
       " ('PRODUCT_1514',\n",
       "  'MACHINE_001',\n",
       "  96.0,\n",
       "  'FQCH',\n",
       "  datetime.datetime(2015, 2, 6, 5, 13, 36),\n",
       "  '23 hours'),\n",
       " ('PRODUCT_1535',\n",
       "  'MACHINE_001',\n",
       "  96.0,\n",
       "  'BLOK',\n",
       "  datetime.datetime(2015, 2, 6, 23, 54, 54),\n",
       "  '23 hours'),\n",
       " ('PRODUCT_1535',\n",
       "  'MACHINE_001',\n",
       "  96.0,\n",
       "  'EMAN',\n",
       "  datetime.datetime(2015, 2, 6, 23, 54, 54),\n",
       "  '23 hours'),\n",
       " ('PRODUCT_1771',\n",
       "  'MACHINE_001',\n",
       "  96.0,\n",
       "  'BLOK',\n",
       "  datetime.datetime(2015, 2, 19, 10, 50, 5),\n",
       "  '22 hours'),\n",
       " ('PRODUCT_1854',\n",
       "  'MACHINE_001',\n",
       "  96.0,\n",
       "  'BPAK',\n",
       "  datetime.datetime(2015, 2, 24, 2, 14, 12),\n",
       "  '23 hours'),\n",
       " ('PRODUCT_1867',\n",
       "  'MACHINE_001',\n",
       "  96.0,\n",
       "  'BPAK',\n",
       "  datetime.datetime(2015, 2, 24, 8, 14, 51),\n",
       "  '23 hours'),\n",
       " ('PRODUCT_1910',\n",
       "  'MACHINE_001',\n",
       "  96.0,\n",
       "  'FQCH',\n",
       "  datetime.datetime(2015, 2, 27, 8, 20, 39),\n",
       "  '23 hours'),\n",
       " ('PRODUCT_1917',\n",
       "  'MACHINE_001',\n",
       "  96.0,\n",
       "  'EMAN',\n",
       "  datetime.datetime(2015, 2, 27, 15, 16, 17),\n",
       "  '22 hours'),\n",
       " ('PRODUCT_1934',\n",
       "  'MACHINE_001',\n",
       "  99.0,\n",
       "  'EMAN',\n",
       "  datetime.datetime(2015, 3, 1, 3, 23, 18),\n",
       "  '23 hours'),\n",
       " ('PRODUCT_1956',\n",
       "  'MACHINE_001',\n",
       "  96.0,\n",
       "  'EMAN',\n",
       "  datetime.datetime(2015, 3, 2, 14, 48, 3),\n",
       "  '23 hours'),\n",
       " ('PRODUCT_1957',\n",
       "  'MACHINE_001',\n",
       "  96.0,\n",
       "  'FQCH',\n",
       "  datetime.datetime(2015, 3, 2, 10, 35, 41),\n",
       "  '23 hours'),\n",
       " ('PRODUCT_1980',\n",
       "  'MACHINE_001',\n",
       "  96.0,\n",
       "  'BPAK',\n",
       "  datetime.datetime(2015, 3, 3, 1, 8, 36),\n",
       "  '23 hours'),\n",
       " ('PRODUCT_1984',\n",
       "  'MACHINE_001',\n",
       "  96.0,\n",
       "  'BPAK',\n",
       "  datetime.datetime(2015, 3, 3, 9, 14, 15),\n",
       "  '23 hours'),\n",
       " ('PRODUCT_1989',\n",
       "  'MACHINE_001',\n",
       "  96.0,\n",
       "  'EMAN',\n",
       "  datetime.datetime(2015, 3, 3, 5, 13, 16),\n",
       "  '22 hours'),\n",
       " ('PRODUCT_1998',\n",
       "  'MACHINE_001',\n",
       "  96.0,\n",
       "  'BLOK',\n",
       "  datetime.datetime(2015, 3, 3, 3, 36, 54),\n",
       "  '23 hours'),\n",
       " ('PRODUCT_2025',\n",
       "  'MACHINE_001',\n",
       "  96.0,\n",
       "  'FQCH',\n",
       "  datetime.datetime(2015, 3, 4, 6, 29, 38),\n",
       "  '23 hours'),\n",
       " ('PRODUCT_2135',\n",
       "  'MACHINE_001',\n",
       "  96.0,\n",
       "  'FQCH',\n",
       "  datetime.datetime(2015, 3, 8, 2, 34, 50),\n",
       "  '23 hours'),\n",
       " ('PRODUCT_2152',\n",
       "  'MACHINE_001',\n",
       "  96.0,\n",
       "  'BPAK',\n",
       "  datetime.datetime(2015, 3, 8, 20, 29, 1),\n",
       "  '24 hours'),\n",
       " ('PRODUCT_2280',\n",
       "  'MACHINE_001',\n",
       "  96.0,\n",
       "  'BLOK',\n",
       "  datetime.datetime(2015, 3, 12, 14, 36),\n",
       "  '23 hours'),\n",
       " ('PRODUCT_2281',\n",
       "  'MACHINE_001',\n",
       "  96.0,\n",
       "  'EMAN',\n",
       "  datetime.datetime(2015, 3, 13, 1, 42, 22),\n",
       "  '23 hours'),\n",
       " ('PRODUCT_2284',\n",
       "  'MACHINE_001',\n",
       "  96.0,\n",
       "  'EMAN',\n",
       "  datetime.datetime(2015, 3, 13, 5, 3, 18),\n",
       "  '23 hours'),\n",
       " ('PRODUCT_2317',\n",
       "  'MACHINE_001',\n",
       "  96.0,\n",
       "  'BPAK',\n",
       "  datetime.datetime(2015, 3, 14, 9, 45, 21),\n",
       "  '24 hours'),\n",
       " ('PRODUCT_2336',\n",
       "  'MACHINE_001',\n",
       "  96.0,\n",
       "  'EMAN',\n",
       "  datetime.datetime(2015, 3, 15, 3, 50, 49),\n",
       "  '23 hours'),\n",
       " ('PRODUCT_2369',\n",
       "  'MACHINE_001',\n",
       "  96.0,\n",
       "  'FQCH',\n",
       "  datetime.datetime(2015, 3, 16, 2, 0, 12),\n",
       "  '22 hours'),\n",
       " ('PRODUCT_2377',\n",
       "  'MACHINE_001',\n",
       "  96.0,\n",
       "  'BPAK',\n",
       "  datetime.datetime(2015, 3, 16, 10, 21, 3),\n",
       "  '23 hours'),\n",
       " ('PRODUCT_2411',\n",
       "  'MACHINE_001',\n",
       "  96.0,\n",
       "  'BLOK',\n",
       "  datetime.datetime(2015, 3, 17, 4, 17, 55),\n",
       "  '23 hours'),\n",
       " ('PRODUCT_2414',\n",
       "  'MACHINE_001',\n",
       "  96.0,\n",
       "  'BPAK',\n",
       "  datetime.datetime(2015, 3, 17, 2, 57, 31),\n",
       "  '22 hours'),\n",
       " ('PRODUCT_2414',\n",
       "  'MACHINE_001',\n",
       "  96.0,\n",
       "  'BLOK',\n",
       "  datetime.datetime(2015, 3, 17, 2, 57, 31),\n",
       "  '22 hours'),\n",
       " ('PRODUCT_2415',\n",
       "  'MACHINE_001',\n",
       "  97.0,\n",
       "  'BPAK',\n",
       "  datetime.datetime(2015, 3, 17, 8, 17, 41),\n",
       "  '22 hours'),\n",
       " ('PRODUCT_2415',\n",
       "  'MACHINE_001',\n",
       "  96.0,\n",
       "  'EMAN',\n",
       "  datetime.datetime(2015, 3, 17, 8, 17, 41),\n",
       "  '22 hours'),\n",
       " ('PRODUCT_2424',\n",
       "  'MACHINE_001',\n",
       "  96.0,\n",
       "  'BPAK',\n",
       "  datetime.datetime(2015, 3, 17, 17, 57, 29),\n",
       "  '23 hours'),\n",
       " ('PRODUCT_2460',\n",
       "  'MACHINE_001',\n",
       "  96.0,\n",
       "  'BLOK',\n",
       "  datetime.datetime(2015, 3, 19, 13, 2, 3),\n",
       "  '23 hours'),\n",
       " ('PRODUCT_2707',\n",
       "  'MACHINE_001',\n",
       "  96.0,\n",
       "  'FQCH',\n",
       "  datetime.datetime(2015, 3, 27, 13, 55, 7),\n",
       "  '22 hours'),\n",
       " ('PRODUCT_3002',\n",
       "  'MACHINE_001',\n",
       "  96.0,\n",
       "  'BLOK',\n",
       "  datetime.datetime(2015, 4, 8, 21, 21, 47),\n",
       "  '23 hours'),\n",
       " ('PRODUCT_3165',\n",
       "  'MACHINE_001',\n",
       "  96.0,\n",
       "  'BLOK',\n",
       "  datetime.datetime(2015, 4, 14, 15, 34, 58),\n",
       "  '23 hours'),\n",
       " ('PRODUCT_3179',\n",
       "  'MACHINE_001',\n",
       "  96.0,\n",
       "  'EMAN',\n",
       "  datetime.datetime(2015, 4, 15, 1, 25, 43),\n",
       "  '23 hours')]"
      ]
     },
     "execution_count": 45,
     "metadata": {},
     "output_type": "execute_result"
    }
   ],
   "source": [
    "rdd_product_isError.map(lambda x : (x.product_id , x.machine_name,x.errors,x.code,x.start_at ,x.log_work)) \\\n",
    "                    .collect()"
   ]
  },
  {
   "cell_type": "code",
   "execution_count": null,
   "metadata": {},
   "outputs": [],
   "source": []
  }
 ],
 "metadata": {
  "kernelspec": {
   "display_name": "Python 3",
   "language": "python",
   "name": "python3"
  },
  "language_info": {
   "codemirror_mode": {
    "name": "ipython",
    "version": 3
   },
   "file_extension": ".py",
   "mimetype": "text/x-python",
   "name": "python",
   "nbconvert_exporter": "python",
   "pygments_lexer": "ipython3",
   "version": "3.8.10"
  }
 },
 "nbformat": 4,
 "nbformat_minor": 1
}
